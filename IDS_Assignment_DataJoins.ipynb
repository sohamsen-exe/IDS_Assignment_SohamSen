{
 "cells": [
  {
   "cell_type": "code",
   "execution_count": null,
   "id": "edc4330c-cbea-4b9c-9358-0579cff98fc1",
   "metadata": {},
   "outputs": [],
   "source": [
    "import pandas as pd"
   ]
  },
  {
   "cell_type": "code",
   "execution_count": null,
   "id": "d43609de-021a-4ec2-b7d5-e01fac2bfc7c",
   "metadata": {},
   "outputs": [],
   "source": [
    "Students = {\n",
    "    \"StudentID\" : [101, 102, 103, 104],\n",
    "    \"Name\" : [\"Alice\", \"Bob\", \"Charlie\", \"David\"],\n",
    "    \"Marks\" : [85, 90, 88, 92]\n",
    "}\n",
    "StudentsDF = pd.DataFrame(Students)\n",
    "StudentsDF"
   ]
  },
  {
   "cell_type": "code",
   "execution_count": null,
   "id": "82203166-35fd-44d7-b5e7-5a1fb0999261",
   "metadata": {},
   "outputs": [],
   "source": [
    "Details = {\n",
    "    \"StudentID\" : [101, 102, 103, 105],\n",
    "    \"Age\" : [20, 21, 22, 19],\n",
    "    \"Grade\" : [\"A\", \"B\", \"A\", \"C\"]\n",
    "}\n",
    "DetailsDF = pd.DataFrame(Details)\n",
    "DetailsDF"
   ]
  },
  {
   "cell_type": "code",
   "execution_count": null,
   "id": "75ba7e80-40cd-4afb-b070-2d91430cbcc7",
   "metadata": {},
   "outputs": [],
   "source": [
    "inner_join = pd.merge(StudentsDF, DetailsDF, on = \"StudentID\", how = \"inner\")\n",
    "inner_join\n",
    "#Displays all common rows from both dataframes"
   ]
  },
  {
   "cell_type": "code",
   "execution_count": null,
   "id": "ed4ac634-e6ff-41c3-b1cc-6d6ed54970ce",
   "metadata": {},
   "outputs": [],
   "source": [
    "outer_join = pd.merge(StudentsDF, DetailsDF, on = \"StudentID\", how = \"outer\")\n",
    "outer_join\n",
    "#Displays every single row in both dataframes"
   ]
  },
  {
   "cell_type": "code",
   "execution_count": null,
   "id": "b3a1f6d0-1661-429c-b858-991c502f58ce",
   "metadata": {},
   "outputs": [],
   "source": [
    "left_join = pd.merge(StudentsDF, DetailsDF, on = \"StudentID\", how = \"left\")\n",
    "left_join\n",
    "#Displays all rows and common rows from the first dataframe"
   ]
  },
  {
   "cell_type": "code",
   "execution_count": null,
   "id": "7ff0f4d1-d09c-4f69-b975-20d51fedb8ac",
   "metadata": {},
   "outputs": [],
   "source": [
    "right_join = pd.merge(StudentsDF, DetailsDF, on = \"StudentID\", how = \"inner\")\n",
    "right_join\n",
    "#Displays all rows and common rows from the second dataframe"
   ]
  },
  {
   "cell_type": "code",
   "execution_count": null,
   "id": "9c84e446-a62b-41cf-b0c5-306fb3aeddc7",
   "metadata": {},
   "outputs": [],
   "source": [
    "outer_join.set_index(\"StudentID\", inplace = True)\n",
    "outer_join"
   ]
  },
  {
   "cell_type": "code",
   "execution_count": null,
   "id": "1c8959ca-7575-42c7-9dfb-6cc8d1cff3cf",
   "metadata": {},
   "outputs": [],
   "source": [
    "outer_join.reset_index(\"StudentID\", inplace = True)\n",
    "outer_join"
   ]
  },
  {
   "cell_type": "code",
   "execution_count": null,
   "id": "928c599c-94d3-41ee-868e-73e76b048f98",
   "metadata": {},
   "outputs": [],
   "source": [
    "outer_join.to_csv(\"merged_student_details.csv\", index = False)"
   ]
  },
  {
   "cell_type": "code",
   "execution_count": null,
   "id": "41561214-26f1-4d93-aefb-96833ee9c1d6",
   "metadata": {},
   "outputs": [],
   "source": [
    "pd.read_csv(\"merged_student_details.csv\")"
   ]
  },
  {
   "cell_type": "code",
   "execution_count": null,
   "id": "1211ced7-e622-41a8-8c40-58aad4beb2a7",
   "metadata": {},
   "outputs": [],
   "source": []
  }
 ],
 "metadata": {
  "kernelspec": {
   "display_name": "Python 3 (ipykernel)",
   "language": "python",
   "name": "python3"
  },
  "language_info": {
   "codemirror_mode": {
    "name": "ipython",
    "version": 3
   },
   "file_extension": ".py",
   "mimetype": "text/x-python",
   "name": "python",
   "nbconvert_exporter": "python",
   "pygments_lexer": "ipython3",
   "version": "3.12.4"
  }
 },
 "nbformat": 4,
 "nbformat_minor": 5
}
